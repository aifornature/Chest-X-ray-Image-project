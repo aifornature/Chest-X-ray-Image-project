{
  "cells": [
    {
      "cell_type": "code",
      "execution_count": 1,
      "metadata": {},
      "outputs": [
        {
          "data": {
            "text/plain": [
              "'/Users/i/Downloads/cv_project/classification_code'"
            ]
          },
          "execution_count": 1,
          "metadata": {},
          "output_type": "execute_result"
        }
      ],
      "source": [
        "pwd"
      ]
    },
    {
      "cell_type": "code",
      "execution_count": 2,
      "metadata": {
        "colab": {
          "base_uri": "https://localhost:8080/"
        },
        "id": "uVuHtS9n4Qpk",
        "outputId": "c2c9292d-f3cb-4a52-8ad5-9d186b181f2a"
      },
      "outputs": [
        {
          "name": "stdout",
          "output_type": "stream",
          "text": [
            "/Users/i/Downloads/cv_project/classification_code/YOLO/classification10\n",
            "Downloading https://github.com/ultralytics/assets/releases/download/v8.2.0/yolov8x-cls.pt to 'models/yolov8x-cls.pt'...\n"
          ]
        },
        {
          "name": "stderr",
          "output_type": "stream",
          "text": [
            "100%|██████████| 110M/110M [00:09<00:00, 11.6MB/s] \n"
          ]
        }
      ],
      "source": [
        "import os\n",
        "\n",
        "# 모델 저장 파일 생성 및 경로 설정\n",
        "save_path='/Users/i/Downloads/cv_project/classification_code'\n",
        "\n",
        "## /content/gdrive/MyDrive/YOLO 경로 생성\n",
        "if not os.path.exists(os.path.join(save_path,'YOLO')):\n",
        "  os.makedirs(os.path.join(os.path.join(save_path,'YOLO')))\n",
        "save_path1=f'{save_path}/YOLO'\n",
        "\n",
        "## /content/gdrive/MyDrive/YOLO/classification 경로 생성\n",
        "if not os.path.exists(os.path.join(save_path1,'classification10')):\n",
        "  os.makedirs(os.path.join(os.path.join(save_path1,'classification10')))\n",
        "save_path2=f'{save_path1}/classification10'\n",
        "\n",
        "%cd /Users/i/Downloads/cv_project/classification_code/YOLO/classification10\n",
        "!ls\n",
        "\n",
        "# 모델 다운로드\n",
        "from ultralytics import YOLO\n",
        "model=YOLO('./models/yolov8x-cls.pt')"
      ]
    },
    {
      "cell_type": "code",
      "execution_count": 3,
      "metadata": {},
      "outputs": [
        {
          "name": "stdout",
          "output_type": "stream",
          "text": [
            "MPS 장치를 지원하도록 build가 되었는가? True\n",
            "MPS 장치가 사용 가능한가? True\n"
          ]
        }
      ],
      "source": [
        "import torch\n",
        "\n",
        "print(f\"MPS 장치를 지원하도록 build가 되었는가? {torch.backends.mps.is_built()}\")\n",
        "print(f\"MPS 장치가 사용 가능한가? {torch.backends.mps.is_available()}\") \n",
        "\n",
        "device = torch.device(\"mps\" if torch.cuda.is_available() else \"cpu\")\n"
      ]
    },
    {
      "cell_type": "code",
      "execution_count": 4,
      "metadata": {},
      "outputs": [
        {
          "data": {
            "text/plain": [
              "'/Users/i/Downloads/cv_project/classification_code/YOLO/classification10'"
            ]
          },
          "execution_count": 4,
          "metadata": {},
          "output_type": "execute_result"
        }
      ],
      "source": [
        "pwd"
      ]
    },
    {
      "cell_type": "code",
      "execution_count": 5,
      "metadata": {
        "colab": {
          "base_uri": "https://localhost:8080/"
        },
        "id": "D8KrIE7XBXgw",
        "outputId": "90582cad-1911-41de-b0a9-0af5140256f9"
      },
      "outputs": [
        {
          "name": "stdout",
          "output_type": "stream",
          "text": [
            "Ultralytics YOLOv8.2.48 🚀 Python-3.12.4 torch-2.3.1 CPU (Apple M1)\n",
            "\u001b[34m\u001b[1mengine/trainer: \u001b[0mtask=classify, mode=train, model=./models/yolov8x-cls.pt, data=/Users/i/Downloads/cv_project/chest_xray_data_mini3/chest_xray, epochs=100, time=None, patience=100, batch=16, imgsz=64, save=True, save_period=-1, cache=False, device=None, workers=8, project=/Users/i/Downloads/cv_project/classification_code/YOLO/classification10, name=train, exist_ok=False, pretrained=True, optimizer=auto, verbose=True, seed=0, deterministic=True, single_cls=False, rect=False, cos_lr=False, close_mosaic=10, resume=False, amp=True, fraction=1.0, profile=False, freeze=None, multi_scale=False, overlap_mask=True, mask_ratio=4, dropout=0.0, val=True, split=val, save_json=False, save_hybrid=False, conf=None, iou=0.7, max_det=300, half=False, dnn=False, plots=True, source=None, vid_stride=1, stream_buffer=False, visualize=False, augment=False, agnostic_nms=False, classes=None, retina_masks=False, embed=None, show=False, save_frames=False, save_txt=False, save_conf=False, save_crop=False, show_labels=True, show_conf=True, show_boxes=True, line_width=None, format=torchscript, keras=False, optimize=False, int8=False, dynamic=False, simplify=False, opset=None, workspace=4, nms=False, lr0=0.01, lrf=0.01, momentum=0.937, weight_decay=0.0005, warmup_epochs=3.0, warmup_momentum=0.8, warmup_bias_lr=0.1, box=7.5, cls=0.5, dfl=1.5, pose=12.0, kobj=1.0, label_smoothing=0.0, nbs=64, hsv_h=0.015, hsv_s=0.7, hsv_v=0.4, degrees=0.0, translate=0.1, scale=0.5, shear=0.0, perspective=0.0, flipud=0.0, fliplr=0.5, bgr=0.0, mosaic=1.0, mixup=0.0, copy_paste=0.0, auto_augment=randaugment, erasing=0.4, crop_fraction=1.0, cfg=None, tracker=botsort.yaml, save_dir=/Users/i/Downloads/cv_project/classification_code/YOLO/classification10/train\n",
            "\u001b[34m\u001b[1mtrain:\u001b[0m /Users/i/Downloads/cv_project/chest_xray_data_mini3/chest_xray/train... found 540 images in 3 classes ✅ \n",
            "\u001b[34m\u001b[1mval:\u001b[0m /Users/i/Downloads/cv_project/chest_xray_data_mini3/chest_xray/val... found 180 images in 3 classes ✅ \n",
            "\u001b[34m\u001b[1mtest:\u001b[0m /Users/i/Downloads/cv_project/chest_xray_data_mini3/chest_xray/test... found 180 images in 3 classes ✅ \n",
            "Overriding model.yaml nc=1000 with nc=3\n",
            "\n",
            "                   from  n    params  module                                       arguments                     \n",
            "  0                  -1  1      2320  ultralytics.nn.modules.conv.Conv             [3, 80, 3, 2]                 \n",
            "  1                  -1  1    115520  ultralytics.nn.modules.conv.Conv             [80, 160, 3, 2]               \n",
            "  2                  -1  3    436800  ultralytics.nn.modules.block.C2f             [160, 160, 3, True]           \n",
            "  3                  -1  1    461440  ultralytics.nn.modules.conv.Conv             [160, 320, 3, 2]              \n",
            "  4                  -1  6   3281920  ultralytics.nn.modules.block.C2f             [320, 320, 6, True]           \n",
            "  5                  -1  1   1844480  ultralytics.nn.modules.conv.Conv             [320, 640, 3, 2]              \n",
            "  6                  -1  6  13117440  ultralytics.nn.modules.block.C2f             [640, 640, 6, True]           \n",
            "  7                  -1  1   7375360  ultralytics.nn.modules.conv.Conv             [640, 1280, 3, 2]             \n",
            "  8                  -1  3  27865600  ultralytics.nn.modules.block.C2f             [1280, 1280, 3, True]         \n",
            "  9                  -1  1   1644803  ultralytics.nn.modules.head.Classify         [1280, 3]                     \n",
            "YOLOv8x-cls summary: 183 layers, 56145683 parameters, 56145683 gradients, 154.3 GFLOPs\n",
            "Transferred 300/302 items from pretrained weights\n"
          ]
        },
        {
          "name": "stderr",
          "output_type": "stream",
          "text": [
            "\u001b[34m\u001b[1mtrain: \u001b[0mScanning /Users/i/Downloads/cv_project/chest_xray_data_mini3/chest_xray/train... 540 images, 0 corrupt: 100%|██████████| 540/540 [00:00<?, ?it/s]\n",
            "\u001b[34m\u001b[1mval: \u001b[0mScanning /Users/i/Downloads/cv_project/chest_xray_data_mini3/chest_xray/val... 180 images, 0 corrupt: 100%|██████████| 180/180 [00:00<?, ?it/s]"
          ]
        },
        {
          "name": "stdout",
          "output_type": "stream",
          "text": [
            "\u001b[34m\u001b[1moptimizer:\u001b[0m 'optimizer=auto' found, ignoring 'lr0=0.01' and 'momentum=0.937' and determining best 'optimizer', 'lr0' and 'momentum' automatically... \n",
            "\u001b[34m\u001b[1moptimizer:\u001b[0m AdamW(lr=0.000714, momentum=0.9) with parameter groups 50 weight(decay=0.0), 51 weight(decay=0.0005), 51 bias(decay=0.0)\n",
            "Image sizes 64 train, 64 val\n",
            "Using 0 dataloader workers\n",
            "Logging results to \u001b[1m/Users/i/Downloads/cv_project/classification_code/YOLO/classification10/train\u001b[0m\n",
            "Starting training for 100 epochs...\n",
            "\n",
            "      Epoch    GPU_mem       loss  Instances       Size\n"
          ]
        },
        {
          "name": "stderr",
          "output_type": "stream",
          "text": [
            "\n",
            "      1/100         0G      1.083         12         64: 100%|██████████| 34/34 [02:09<00:00,  3.81s/it]\n",
            "               classes   top1_acc   top5_acc: 100%|██████████| 6/6 [00:26<00:00,  4.33s/it]"
          ]
        },
        {
          "name": "stdout",
          "output_type": "stream",
          "text": [
            "                   all      0.467          1\n"
          ]
        },
        {
          "name": "stderr",
          "output_type": "stream",
          "text": [
            "\n"
          ]
        },
        {
          "name": "stdout",
          "output_type": "stream",
          "text": [
            "\n",
            "      Epoch    GPU_mem       loss  Instances       Size\n"
          ]
        },
        {
          "name": "stderr",
          "output_type": "stream",
          "text": [
            "      2/100         0G     0.8788         12         64: 100%|██████████| 34/34 [02:00<00:00,  3.54s/it]\n",
            "               classes   top1_acc   top5_acc: 100%|██████████| 6/6 [00:25<00:00,  4.23s/it]"
          ]
        },
        {
          "name": "stdout",
          "output_type": "stream",
          "text": [
            "                   all      0.672          1\n"
          ]
        },
        {
          "name": "stderr",
          "output_type": "stream",
          "text": [
            "\n"
          ]
        },
        {
          "name": "stdout",
          "output_type": "stream",
          "text": [
            "\n",
            "      Epoch    GPU_mem       loss  Instances       Size\n"
          ]
        },
        {
          "name": "stderr",
          "output_type": "stream",
          "text": [
            "      3/100         0G     0.7171         12         64: 100%|██████████| 34/34 [02:05<00:00,  3.69s/it]\n",
            "               classes   top1_acc   top5_acc: 100%|██████████| 6/6 [00:26<00:00,  4.37s/it]"
          ]
        },
        {
          "name": "stdout",
          "output_type": "stream",
          "text": [
            "                   all      0.772          1\n"
          ]
        },
        {
          "name": "stderr",
          "output_type": "stream",
          "text": [
            "\n"
          ]
        },
        {
          "name": "stdout",
          "output_type": "stream",
          "text": [
            "\n",
            "      Epoch    GPU_mem       loss  Instances       Size\n"
          ]
        },
        {
          "name": "stderr",
          "output_type": "stream",
          "text": [
            "      4/100         0G     0.6416         12         64: 100%|██████████| 34/34 [01:57<00:00,  3.45s/it]\n",
            "               classes   top1_acc   top5_acc: 100%|██████████| 6/6 [00:25<00:00,  4.18s/it]"
          ]
        },
        {
          "name": "stdout",
          "output_type": "stream",
          "text": [
            "                   all      0.728          1\n"
          ]
        },
        {
          "name": "stderr",
          "output_type": "stream",
          "text": [
            "\n"
          ]
        },
        {
          "name": "stdout",
          "output_type": "stream",
          "text": [
            "\n",
            "      Epoch    GPU_mem       loss  Instances       Size\n"
          ]
        },
        {
          "name": "stderr",
          "output_type": "stream",
          "text": [
            "      5/100         0G     0.6339         12         64: 100%|██████████| 34/34 [01:56<00:00,  3.41s/it]\n",
            "               classes   top1_acc   top5_acc: 100%|██████████| 6/6 [00:24<00:00,  4.03s/it]"
          ]
        },
        {
          "name": "stdout",
          "output_type": "stream",
          "text": [
            "                   all        0.7          1\n"
          ]
        },
        {
          "name": "stderr",
          "output_type": "stream",
          "text": [
            "\n"
          ]
        },
        {
          "name": "stdout",
          "output_type": "stream",
          "text": [
            "\n",
            "      Epoch    GPU_mem       loss  Instances       Size\n"
          ]
        },
        {
          "name": "stderr",
          "output_type": "stream",
          "text": [
            "      6/100         0G     0.6524         12         64: 100%|██████████| 34/34 [01:52<00:00,  3.31s/it]\n",
            "               classes   top1_acc   top5_acc: 100%|██████████| 6/6 [00:24<00:00,  4.12s/it]"
          ]
        },
        {
          "name": "stdout",
          "output_type": "stream",
          "text": [
            "                   all      0.744          1\n"
          ]
        },
        {
          "name": "stderr",
          "output_type": "stream",
          "text": [
            "\n"
          ]
        },
        {
          "name": "stdout",
          "output_type": "stream",
          "text": [
            "\n",
            "      Epoch    GPU_mem       loss  Instances       Size\n"
          ]
        },
        {
          "name": "stderr",
          "output_type": "stream",
          "text": [
            "      7/100         0G     0.5515         12         64: 100%|██████████| 34/34 [01:53<00:00,  3.33s/it]\n",
            "               classes   top1_acc   top5_acc: 100%|██████████| 6/6 [00:24<00:00,  4.11s/it]"
          ]
        },
        {
          "name": "stdout",
          "output_type": "stream",
          "text": [
            "                   all      0.778          1\n"
          ]
        },
        {
          "name": "stderr",
          "output_type": "stream",
          "text": [
            "\n"
          ]
        },
        {
          "name": "stdout",
          "output_type": "stream",
          "text": [
            "\n",
            "      Epoch    GPU_mem       loss  Instances       Size\n"
          ]
        },
        {
          "name": "stderr",
          "output_type": "stream",
          "text": [
            "      8/100         0G     0.5833         12         64: 100%|██████████| 34/34 [01:54<00:00,  3.37s/it]\n",
            "               classes   top1_acc   top5_acc: 100%|██████████| 6/6 [00:24<00:00,  4.06s/it]"
          ]
        },
        {
          "name": "stdout",
          "output_type": "stream",
          "text": [
            "                   all      0.722          1\n"
          ]
        },
        {
          "name": "stderr",
          "output_type": "stream",
          "text": [
            "\n"
          ]
        },
        {
          "name": "stdout",
          "output_type": "stream",
          "text": [
            "\n",
            "      Epoch    GPU_mem       loss  Instances       Size\n"
          ]
        },
        {
          "name": "stderr",
          "output_type": "stream",
          "text": [
            "      9/100         0G     0.5375         12         64: 100%|██████████| 34/34 [01:52<00:00,  3.32s/it]\n",
            "               classes   top1_acc   top5_acc: 100%|██████████| 6/6 [00:24<00:00,  4.08s/it]"
          ]
        },
        {
          "name": "stdout",
          "output_type": "stream",
          "text": [
            "                   all        0.8          1\n"
          ]
        },
        {
          "name": "stderr",
          "output_type": "stream",
          "text": [
            "\n"
          ]
        },
        {
          "name": "stdout",
          "output_type": "stream",
          "text": [
            "\n",
            "      Epoch    GPU_mem       loss  Instances       Size\n"
          ]
        },
        {
          "name": "stderr",
          "output_type": "stream",
          "text": [
            "     10/100         0G     0.5569         12         64: 100%|██████████| 34/34 [01:55<00:00,  3.40s/it]\n",
            "               classes   top1_acc   top5_acc: 100%|██████████| 6/6 [00:26<00:00,  4.40s/it]"
          ]
        },
        {
          "name": "stdout",
          "output_type": "stream",
          "text": [
            "                   all      0.722          1\n"
          ]
        },
        {
          "name": "stderr",
          "output_type": "stream",
          "text": [
            "\n"
          ]
        },
        {
          "name": "stdout",
          "output_type": "stream",
          "text": [
            "\n",
            "      Epoch    GPU_mem       loss  Instances       Size\n"
          ]
        },
        {
          "name": "stderr",
          "output_type": "stream",
          "text": [
            "     11/100         0G      0.528         12         64: 100%|██████████| 34/34 [01:59<00:00,  3.53s/it]\n",
            "               classes   top1_acc   top5_acc: 100%|██████████| 6/6 [00:25<00:00,  4.21s/it]"
          ]
        },
        {
          "name": "stdout",
          "output_type": "stream",
          "text": [
            "                   all      0.756          1\n"
          ]
        },
        {
          "name": "stderr",
          "output_type": "stream",
          "text": [
            "\n"
          ]
        },
        {
          "name": "stdout",
          "output_type": "stream",
          "text": [
            "\n",
            "      Epoch    GPU_mem       loss  Instances       Size\n"
          ]
        },
        {
          "name": "stderr",
          "output_type": "stream",
          "text": [
            "     12/100         0G     0.4859         12         64: 100%|██████████| 34/34 [02:05<00:00,  3.68s/it]\n",
            "               classes   top1_acc   top5_acc: 100%|██████████| 6/6 [00:27<00:00,  4.55s/it]"
          ]
        },
        {
          "name": "stdout",
          "output_type": "stream",
          "text": [
            "                   all      0.761          1\n"
          ]
        },
        {
          "name": "stderr",
          "output_type": "stream",
          "text": [
            "\n"
          ]
        },
        {
          "name": "stdout",
          "output_type": "stream",
          "text": [
            "\n",
            "      Epoch    GPU_mem       loss  Instances       Size\n"
          ]
        },
        {
          "name": "stderr",
          "output_type": "stream",
          "text": [
            "     13/100         0G     0.5423         12         64: 100%|██████████| 34/34 [01:59<00:00,  3.50s/it]\n",
            "               classes   top1_acc   top5_acc: 100%|██████████| 6/6 [00:24<00:00,  4.07s/it]"
          ]
        },
        {
          "name": "stdout",
          "output_type": "stream",
          "text": [
            "                   all      0.772          1\n"
          ]
        },
        {
          "name": "stderr",
          "output_type": "stream",
          "text": [
            "\n"
          ]
        },
        {
          "name": "stdout",
          "output_type": "stream",
          "text": [
            "\n",
            "      Epoch    GPU_mem       loss  Instances       Size\n"
          ]
        },
        {
          "name": "stderr",
          "output_type": "stream",
          "text": [
            "     14/100         0G     0.4543         12         64: 100%|██████████| 34/34 [01:59<00:00,  3.53s/it]\n",
            "               classes   top1_acc   top5_acc: 100%|██████████| 6/6 [00:23<00:00,  3.94s/it]"
          ]
        },
        {
          "name": "stdout",
          "output_type": "stream",
          "text": [
            "                   all      0.744          1\n"
          ]
        },
        {
          "name": "stderr",
          "output_type": "stream",
          "text": [
            "\n"
          ]
        },
        {
          "name": "stdout",
          "output_type": "stream",
          "text": [
            "\n",
            "      Epoch    GPU_mem       loss  Instances       Size\n"
          ]
        },
        {
          "name": "stderr",
          "output_type": "stream",
          "text": [
            "     15/100         0G     0.5116         12         64: 100%|██████████| 34/34 [01:48<00:00,  3.18s/it]\n",
            "               classes   top1_acc   top5_acc: 100%|██████████| 6/6 [00:23<00:00,  3.94s/it]"
          ]
        },
        {
          "name": "stdout",
          "output_type": "stream",
          "text": [
            "                   all      0.717          1\n"
          ]
        },
        {
          "name": "stderr",
          "output_type": "stream",
          "text": [
            "\n"
          ]
        },
        {
          "name": "stdout",
          "output_type": "stream",
          "text": [
            "\n",
            "      Epoch    GPU_mem       loss  Instances       Size\n"
          ]
        },
        {
          "name": "stderr",
          "output_type": "stream",
          "text": [
            "     16/100         0G     0.4685         12         64: 100%|██████████| 34/34 [01:47<00:00,  3.17s/it]\n",
            "               classes   top1_acc   top5_acc: 100%|██████████| 6/6 [00:23<00:00,  3.99s/it]"
          ]
        },
        {
          "name": "stdout",
          "output_type": "stream",
          "text": [
            "                   all      0.783          1\n"
          ]
        },
        {
          "name": "stderr",
          "output_type": "stream",
          "text": [
            "\n"
          ]
        },
        {
          "name": "stdout",
          "output_type": "stream",
          "text": [
            "\n",
            "      Epoch    GPU_mem       loss  Instances       Size\n"
          ]
        },
        {
          "name": "stderr",
          "output_type": "stream",
          "text": [
            "     17/100         0G     0.4247         12         64: 100%|██████████| 34/34 [01:46<00:00,  3.12s/it]\n",
            "               classes   top1_acc   top5_acc: 100%|██████████| 6/6 [00:23<00:00,  4.00s/it]"
          ]
        },
        {
          "name": "stdout",
          "output_type": "stream",
          "text": [
            "                   all      0.817          1\n"
          ]
        },
        {
          "name": "stderr",
          "output_type": "stream",
          "text": [
            "\n"
          ]
        },
        {
          "name": "stdout",
          "output_type": "stream",
          "text": [
            "\n",
            "      Epoch    GPU_mem       loss  Instances       Size\n"
          ]
        },
        {
          "name": "stderr",
          "output_type": "stream",
          "text": [
            "     18/100         0G     0.3804         12         64: 100%|██████████| 34/34 [01:58<00:00,  3.47s/it]\n",
            "               classes   top1_acc   top5_acc: 100%|██████████| 6/6 [00:26<00:00,  4.36s/it]"
          ]
        },
        {
          "name": "stdout",
          "output_type": "stream",
          "text": [
            "                   all      0.739          1\n"
          ]
        },
        {
          "name": "stderr",
          "output_type": "stream",
          "text": [
            "\n"
          ]
        },
        {
          "name": "stdout",
          "output_type": "stream",
          "text": [
            "\n",
            "      Epoch    GPU_mem       loss  Instances       Size\n"
          ]
        },
        {
          "name": "stderr",
          "output_type": "stream",
          "text": [
            "     19/100         0G     0.3287         12         64: 100%|██████████| 34/34 [02:09<00:00,  3.80s/it]\n",
            "               classes   top1_acc   top5_acc: 100%|██████████| 6/6 [00:28<00:00,  4.72s/it]"
          ]
        },
        {
          "name": "stdout",
          "output_type": "stream",
          "text": [
            "                   all      0.767          1\n"
          ]
        },
        {
          "name": "stderr",
          "output_type": "stream",
          "text": [
            "\n"
          ]
        },
        {
          "name": "stdout",
          "output_type": "stream",
          "text": [
            "\n",
            "      Epoch    GPU_mem       loss  Instances       Size\n"
          ]
        },
        {
          "name": "stderr",
          "output_type": "stream",
          "text": [
            "     20/100         0G     0.4811         12         64: 100%|██████████| 34/34 [02:01<00:00,  3.56s/it]\n",
            "               classes   top1_acc   top5_acc: 100%|██████████| 6/6 [00:24<00:00,  4.09s/it]"
          ]
        },
        {
          "name": "stdout",
          "output_type": "stream",
          "text": [
            "                   all      0.739          1\n"
          ]
        },
        {
          "name": "stderr",
          "output_type": "stream",
          "text": [
            "\n"
          ]
        },
        {
          "name": "stdout",
          "output_type": "stream",
          "text": [
            "\n",
            "      Epoch    GPU_mem       loss  Instances       Size\n"
          ]
        },
        {
          "name": "stderr",
          "output_type": "stream",
          "text": [
            "     21/100         0G     0.3995         12         64: 100%|██████████| 34/34 [01:54<00:00,  3.38s/it]\n",
            "               classes   top1_acc   top5_acc: 100%|██████████| 6/6 [00:25<00:00,  4.32s/it]"
          ]
        },
        {
          "name": "stdout",
          "output_type": "stream",
          "text": [
            "                   all      0.856          1\n"
          ]
        },
        {
          "name": "stderr",
          "output_type": "stream",
          "text": [
            "\n"
          ]
        },
        {
          "name": "stdout",
          "output_type": "stream",
          "text": [
            "\n",
            "      Epoch    GPU_mem       loss  Instances       Size\n"
          ]
        },
        {
          "name": "stderr",
          "output_type": "stream",
          "text": [
            "     22/100         0G     0.3926         12         64: 100%|██████████| 34/34 [01:59<00:00,  3.51s/it]\n",
            "               classes   top1_acc   top5_acc: 100%|██████████| 6/6 [00:25<00:00,  4.32s/it]"
          ]
        },
        {
          "name": "stdout",
          "output_type": "stream",
          "text": [
            "                   all      0.839          1\n"
          ]
        },
        {
          "name": "stderr",
          "output_type": "stream",
          "text": [
            "\n"
          ]
        },
        {
          "name": "stdout",
          "output_type": "stream",
          "text": [
            "\n",
            "      Epoch    GPU_mem       loss  Instances       Size\n"
          ]
        },
        {
          "name": "stderr",
          "output_type": "stream",
          "text": [
            "     23/100         0G     0.3695         12         64: 100%|██████████| 34/34 [01:58<00:00,  3.48s/it]\n",
            "               classes   top1_acc   top5_acc: 100%|██████████| 6/6 [00:25<00:00,  4.20s/it]"
          ]
        },
        {
          "name": "stdout",
          "output_type": "stream",
          "text": [
            "                   all      0.844          1\n"
          ]
        },
        {
          "name": "stderr",
          "output_type": "stream",
          "text": [
            "\n"
          ]
        },
        {
          "name": "stdout",
          "output_type": "stream",
          "text": [
            "\n",
            "      Epoch    GPU_mem       loss  Instances       Size\n"
          ]
        },
        {
          "name": "stderr",
          "output_type": "stream",
          "text": [
            "     24/100         0G     0.3671         12         64: 100%|██████████| 34/34 [01:59<00:00,  3.52s/it]\n",
            "               classes   top1_acc   top5_acc: 100%|██████████| 6/6 [00:25<00:00,  4.26s/it]"
          ]
        },
        {
          "name": "stdout",
          "output_type": "stream",
          "text": [
            "                   all      0.733          1\n"
          ]
        },
        {
          "name": "stderr",
          "output_type": "stream",
          "text": [
            "\n"
          ]
        },
        {
          "name": "stdout",
          "output_type": "stream",
          "text": [
            "\n",
            "      Epoch    GPU_mem       loss  Instances       Size\n"
          ]
        },
        {
          "name": "stderr",
          "output_type": "stream",
          "text": [
            "     25/100         0G     0.3601         12         64: 100%|██████████| 34/34 [01:58<00:00,  3.48s/it]\n",
            "               classes   top1_acc   top5_acc: 100%|██████████| 6/6 [00:25<00:00,  4.30s/it]"
          ]
        },
        {
          "name": "stdout",
          "output_type": "stream",
          "text": [
            "                   all      0.794          1\n"
          ]
        },
        {
          "name": "stderr",
          "output_type": "stream",
          "text": [
            "\n"
          ]
        },
        {
          "name": "stdout",
          "output_type": "stream",
          "text": [
            "\n",
            "      Epoch    GPU_mem       loss  Instances       Size\n"
          ]
        },
        {
          "name": "stderr",
          "output_type": "stream",
          "text": [
            "     26/100         0G     0.3158         12         64: 100%|██████████| 34/34 [01:58<00:00,  3.49s/it]\n",
            "               classes   top1_acc   top5_acc: 100%|██████████| 6/6 [00:25<00:00,  4.25s/it]"
          ]
        },
        {
          "name": "stdout",
          "output_type": "stream",
          "text": [
            "                   all      0.722          1\n"
          ]
        },
        {
          "name": "stderr",
          "output_type": "stream",
          "text": [
            "\n"
          ]
        },
        {
          "name": "stdout",
          "output_type": "stream",
          "text": [
            "\n",
            "      Epoch    GPU_mem       loss  Instances       Size\n"
          ]
        },
        {
          "name": "stderr",
          "output_type": "stream",
          "text": [
            "     27/100         0G      0.382         12         64: 100%|██████████| 34/34 [01:58<00:00,  3.48s/it]\n",
            "               classes   top1_acc   top5_acc: 100%|██████████| 6/6 [00:25<00:00,  4.22s/it]"
          ]
        },
        {
          "name": "stdout",
          "output_type": "stream",
          "text": [
            "                   all      0.772          1\n"
          ]
        },
        {
          "name": "stderr",
          "output_type": "stream",
          "text": [
            "\n"
          ]
        },
        {
          "name": "stdout",
          "output_type": "stream",
          "text": [
            "\n",
            "      Epoch    GPU_mem       loss  Instances       Size\n"
          ]
        },
        {
          "name": "stderr",
          "output_type": "stream",
          "text": [
            "     28/100         0G     0.3663         12         64: 100%|██████████| 34/34 [01:58<00:00,  3.47s/it]\n",
            "               classes   top1_acc   top5_acc: 100%|██████████| 6/6 [00:25<00:00,  4.22s/it]"
          ]
        },
        {
          "name": "stdout",
          "output_type": "stream",
          "text": [
            "                   all        0.8          1\n"
          ]
        },
        {
          "name": "stderr",
          "output_type": "stream",
          "text": [
            "\n"
          ]
        },
        {
          "name": "stdout",
          "output_type": "stream",
          "text": [
            "\n",
            "      Epoch    GPU_mem       loss  Instances       Size\n"
          ]
        },
        {
          "name": "stderr",
          "output_type": "stream",
          "text": [
            "     29/100         0G      0.257         12         64: 100%|██████████| 34/34 [01:57<00:00,  3.45s/it]\n",
            "               classes   top1_acc   top5_acc: 100%|██████████| 6/6 [00:25<00:00,  4.22s/it]"
          ]
        },
        {
          "name": "stdout",
          "output_type": "stream",
          "text": [
            "                   all       0.75          1\n"
          ]
        },
        {
          "name": "stderr",
          "output_type": "stream",
          "text": [
            "\n"
          ]
        },
        {
          "name": "stdout",
          "output_type": "stream",
          "text": [
            "\n",
            "      Epoch    GPU_mem       loss  Instances       Size\n"
          ]
        },
        {
          "name": "stderr",
          "output_type": "stream",
          "text": [
            "     30/100         0G     0.2663         12         64: 100%|██████████| 34/34 [01:57<00:00,  3.45s/it]\n",
            "               classes   top1_acc   top5_acc: 100%|██████████| 6/6 [00:25<00:00,  4.31s/it]"
          ]
        },
        {
          "name": "stdout",
          "output_type": "stream",
          "text": [
            "                   all        0.8          1\n"
          ]
        },
        {
          "name": "stderr",
          "output_type": "stream",
          "text": [
            "\n"
          ]
        },
        {
          "name": "stdout",
          "output_type": "stream",
          "text": [
            "\n",
            "      Epoch    GPU_mem       loss  Instances       Size\n"
          ]
        },
        {
          "name": "stderr",
          "output_type": "stream",
          "text": [
            "     31/100         0G     0.2879         12         64: 100%|██████████| 34/34 [02:03<00:00,  3.64s/it]\n",
            "               classes   top1_acc   top5_acc: 100%|██████████| 6/6 [00:25<00:00,  4.20s/it]"
          ]
        },
        {
          "name": "stdout",
          "output_type": "stream",
          "text": [
            "                   all      0.767          1\n"
          ]
        },
        {
          "name": "stderr",
          "output_type": "stream",
          "text": [
            "\n"
          ]
        },
        {
          "name": "stdout",
          "output_type": "stream",
          "text": [
            "\n",
            "      Epoch    GPU_mem       loss  Instances       Size\n"
          ]
        },
        {
          "name": "stderr",
          "output_type": "stream",
          "text": [
            "     32/100         0G      0.286         12         64: 100%|██████████| 34/34 [01:58<00:00,  3.49s/it]\n",
            "               classes   top1_acc   top5_acc: 100%|██████████| 6/6 [00:26<00:00,  4.34s/it]"
          ]
        },
        {
          "name": "stdout",
          "output_type": "stream",
          "text": [
            "                   all      0.783          1\n"
          ]
        },
        {
          "name": "stderr",
          "output_type": "stream",
          "text": [
            "\n"
          ]
        },
        {
          "name": "stdout",
          "output_type": "stream",
          "text": [
            "\n",
            "      Epoch    GPU_mem       loss  Instances       Size\n"
          ]
        },
        {
          "name": "stderr",
          "output_type": "stream",
          "text": [
            "     33/100         0G     0.2666         12         64: 100%|██████████| 34/34 [01:55<00:00,  3.40s/it]\n",
            "               classes   top1_acc   top5_acc: 100%|██████████| 6/6 [00:24<00:00,  4.16s/it]"
          ]
        },
        {
          "name": "stdout",
          "output_type": "stream",
          "text": [
            "                   all      0.772          1\n"
          ]
        },
        {
          "name": "stderr",
          "output_type": "stream",
          "text": [
            "\n"
          ]
        },
        {
          "name": "stdout",
          "output_type": "stream",
          "text": [
            "\n",
            "      Epoch    GPU_mem       loss  Instances       Size\n"
          ]
        },
        {
          "name": "stderr",
          "output_type": "stream",
          "text": [
            "     34/100         0G     0.2493         12         64: 100%|██████████| 34/34 [02:00<00:00,  3.54s/it]\n",
            "               classes   top1_acc   top5_acc: 100%|██████████| 6/6 [00:26<00:00,  4.36s/it]"
          ]
        },
        {
          "name": "stdout",
          "output_type": "stream",
          "text": [
            "                   all      0.783          1\n"
          ]
        },
        {
          "name": "stderr",
          "output_type": "stream",
          "text": [
            "\n"
          ]
        },
        {
          "name": "stdout",
          "output_type": "stream",
          "text": [
            "\n",
            "      Epoch    GPU_mem       loss  Instances       Size\n"
          ]
        },
        {
          "name": "stderr",
          "output_type": "stream",
          "text": [
            "     35/100         0G     0.2108         12         64: 100%|██████████| 34/34 [02:00<00:00,  3.55s/it]\n",
            "               classes   top1_acc   top5_acc: 100%|██████████| 6/6 [00:24<00:00,  4.17s/it]"
          ]
        },
        {
          "name": "stdout",
          "output_type": "stream",
          "text": [
            "                   all      0.789          1\n"
          ]
        },
        {
          "name": "stderr",
          "output_type": "stream",
          "text": [
            "\n"
          ]
        },
        {
          "name": "stdout",
          "output_type": "stream",
          "text": [
            "\n",
            "      Epoch    GPU_mem       loss  Instances       Size\n"
          ]
        },
        {
          "name": "stderr",
          "output_type": "stream",
          "text": [
            "     36/100         0G     0.2342         12         64: 100%|██████████| 34/34 [01:56<00:00,  3.44s/it]\n",
            "               classes   top1_acc   top5_acc: 100%|██████████| 6/6 [00:25<00:00,  4.24s/it]"
          ]
        },
        {
          "name": "stdout",
          "output_type": "stream",
          "text": [
            "                   all      0.772          1\n"
          ]
        },
        {
          "name": "stderr",
          "output_type": "stream",
          "text": [
            "\n"
          ]
        },
        {
          "name": "stdout",
          "output_type": "stream",
          "text": [
            "\n",
            "      Epoch    GPU_mem       loss  Instances       Size\n"
          ]
        },
        {
          "name": "stderr",
          "output_type": "stream",
          "text": [
            "     37/100         0G      0.312         12         64: 100%|██████████| 34/34 [02:03<00:00,  3.64s/it]\n",
            "               classes   top1_acc   top5_acc: 100%|██████████| 6/6 [00:25<00:00,  4.32s/it]"
          ]
        },
        {
          "name": "stdout",
          "output_type": "stream",
          "text": [
            "                   all      0.794          1\n"
          ]
        },
        {
          "name": "stderr",
          "output_type": "stream",
          "text": [
            "\n"
          ]
        },
        {
          "name": "stdout",
          "output_type": "stream",
          "text": [
            "\n",
            "      Epoch    GPU_mem       loss  Instances       Size\n"
          ]
        },
        {
          "name": "stderr",
          "output_type": "stream",
          "text": [
            "     38/100         0G      0.245         12         64: 100%|██████████| 34/34 [02:01<00:00,  3.58s/it]\n",
            "               classes   top1_acc   top5_acc: 100%|██████████| 6/6 [00:25<00:00,  4.21s/it]"
          ]
        },
        {
          "name": "stdout",
          "output_type": "stream",
          "text": [
            "                   all      0.789          1\n"
          ]
        },
        {
          "name": "stderr",
          "output_type": "stream",
          "text": [
            "\n"
          ]
        },
        {
          "name": "stdout",
          "output_type": "stream",
          "text": [
            "\n",
            "      Epoch    GPU_mem       loss  Instances       Size\n"
          ]
        },
        {
          "name": "stderr",
          "output_type": "stream",
          "text": [
            "     39/100         0G     0.2073         12         64: 100%|██████████| 34/34 [01:57<00:00,  3.46s/it]\n",
            "               classes   top1_acc   top5_acc: 100%|██████████| 6/6 [00:25<00:00,  4.23s/it]"
          ]
        },
        {
          "name": "stdout",
          "output_type": "stream",
          "text": [
            "                   all      0.828          1\n"
          ]
        },
        {
          "name": "stderr",
          "output_type": "stream",
          "text": [
            "\n"
          ]
        },
        {
          "name": "stdout",
          "output_type": "stream",
          "text": [
            "\n",
            "      Epoch    GPU_mem       loss  Instances       Size\n"
          ]
        },
        {
          "name": "stderr",
          "output_type": "stream",
          "text": [
            "     40/100         0G     0.2446         12         64: 100%|██████████| 34/34 [02:04<00:00,  3.66s/it]\n",
            "               classes   top1_acc   top5_acc: 100%|██████████| 6/6 [00:27<00:00,  4.59s/it]"
          ]
        },
        {
          "name": "stdout",
          "output_type": "stream",
          "text": [
            "                   all      0.794          1\n"
          ]
        },
        {
          "name": "stderr",
          "output_type": "stream",
          "text": [
            "\n"
          ]
        },
        {
          "name": "stdout",
          "output_type": "stream",
          "text": [
            "\n",
            "      Epoch    GPU_mem       loss  Instances       Size\n"
          ]
        },
        {
          "name": "stderr",
          "output_type": "stream",
          "text": [
            "     41/100         0G     0.2485         12         64: 100%|██████████| 34/34 [02:11<00:00,  3.88s/it]\n",
            "               classes   top1_acc   top5_acc: 100%|██████████| 6/6 [00:26<00:00,  4.43s/it]"
          ]
        },
        {
          "name": "stdout",
          "output_type": "stream",
          "text": [
            "                   all      0.783          1\n"
          ]
        },
        {
          "name": "stderr",
          "output_type": "stream",
          "text": [
            "\n"
          ]
        },
        {
          "name": "stdout",
          "output_type": "stream",
          "text": [
            "\n",
            "      Epoch    GPU_mem       loss  Instances       Size\n"
          ]
        },
        {
          "name": "stderr",
          "output_type": "stream",
          "text": [
            "     42/100         0G     0.2009         12         64: 100%|██████████| 34/34 [01:59<00:00,  3.51s/it]\n",
            "               classes   top1_acc   top5_acc: 100%|██████████| 6/6 [00:25<00:00,  4.23s/it]"
          ]
        },
        {
          "name": "stdout",
          "output_type": "stream",
          "text": [
            "                   all      0.817          1\n"
          ]
        },
        {
          "name": "stderr",
          "output_type": "stream",
          "text": [
            "\n"
          ]
        },
        {
          "name": "stdout",
          "output_type": "stream",
          "text": [
            "\n",
            "      Epoch    GPU_mem       loss  Instances       Size\n"
          ]
        },
        {
          "name": "stderr",
          "output_type": "stream",
          "text": [
            "     43/100         0G     0.2234         12         64: 100%|██████████| 34/34 [01:59<00:00,  3.51s/it]\n",
            "               classes   top1_acc   top5_acc: 100%|██████████| 6/6 [00:24<00:00,  4.16s/it]"
          ]
        },
        {
          "name": "stdout",
          "output_type": "stream",
          "text": [
            "                   all      0.778          1\n"
          ]
        },
        {
          "name": "stderr",
          "output_type": "stream",
          "text": [
            "\n"
          ]
        },
        {
          "name": "stdout",
          "output_type": "stream",
          "text": [
            "\n",
            "      Epoch    GPU_mem       loss  Instances       Size\n"
          ]
        },
        {
          "name": "stderr",
          "output_type": "stream",
          "text": [
            "     44/100         0G     0.1939         12         64: 100%|██████████| 34/34 [02:02<00:00,  3.60s/it]\n",
            "               classes   top1_acc   top5_acc: 100%|██████████| 6/6 [00:26<00:00,  4.49s/it]"
          ]
        },
        {
          "name": "stdout",
          "output_type": "stream",
          "text": [
            "                   all      0.828          1\n"
          ]
        },
        {
          "name": "stderr",
          "output_type": "stream",
          "text": [
            "\n"
          ]
        },
        {
          "name": "stdout",
          "output_type": "stream",
          "text": [
            "\n",
            "      Epoch    GPU_mem       loss  Instances       Size\n"
          ]
        },
        {
          "name": "stderr",
          "output_type": "stream",
          "text": [
            "     45/100         0G      0.159         12         64: 100%|██████████| 34/34 [02:07<00:00,  3.74s/it]\n",
            "               classes   top1_acc   top5_acc: 100%|██████████| 6/6 [00:26<00:00,  4.44s/it]"
          ]
        },
        {
          "name": "stdout",
          "output_type": "stream",
          "text": [
            "                   all      0.789          1\n"
          ]
        },
        {
          "name": "stderr",
          "output_type": "stream",
          "text": [
            "\n"
          ]
        },
        {
          "name": "stdout",
          "output_type": "stream",
          "text": [
            "\n",
            "      Epoch    GPU_mem       loss  Instances       Size\n"
          ]
        },
        {
          "name": "stderr",
          "output_type": "stream",
          "text": [
            "     46/100         0G     0.1712         12         64: 100%|██████████| 34/34 [02:02<00:00,  3.62s/it]\n",
            "               classes   top1_acc   top5_acc: 100%|██████████| 6/6 [00:25<00:00,  4.22s/it]"
          ]
        },
        {
          "name": "stdout",
          "output_type": "stream",
          "text": [
            "                   all      0.761          1\n"
          ]
        },
        {
          "name": "stderr",
          "output_type": "stream",
          "text": [
            "\n"
          ]
        },
        {
          "name": "stdout",
          "output_type": "stream",
          "text": [
            "\n",
            "      Epoch    GPU_mem       loss  Instances       Size\n"
          ]
        },
        {
          "name": "stderr",
          "output_type": "stream",
          "text": [
            "     47/100         0G     0.1829         12         64: 100%|██████████| 34/34 [01:57<00:00,  3.46s/it]\n",
            "               classes   top1_acc   top5_acc: 100%|██████████| 6/6 [00:25<00:00,  4.20s/it]"
          ]
        },
        {
          "name": "stdout",
          "output_type": "stream",
          "text": [
            "                   all      0.794          1\n"
          ]
        },
        {
          "name": "stderr",
          "output_type": "stream",
          "text": [
            "\n"
          ]
        },
        {
          "name": "stdout",
          "output_type": "stream",
          "text": [
            "\n",
            "      Epoch    GPU_mem       loss  Instances       Size\n"
          ]
        },
        {
          "name": "stderr",
          "output_type": "stream",
          "text": [
            "     48/100         0G      0.165         12         64: 100%|██████████| 34/34 [02:02<00:00,  3.61s/it]\n",
            "               classes   top1_acc   top5_acc: 100%|██████████| 6/6 [00:26<00:00,  4.42s/it]"
          ]
        },
        {
          "name": "stdout",
          "output_type": "stream",
          "text": [
            "                   all      0.744          1\n"
          ]
        },
        {
          "name": "stderr",
          "output_type": "stream",
          "text": [
            "\n"
          ]
        },
        {
          "name": "stdout",
          "output_type": "stream",
          "text": [
            "\n",
            "      Epoch    GPU_mem       loss  Instances       Size\n"
          ]
        },
        {
          "name": "stderr",
          "output_type": "stream",
          "text": [
            "     49/100         0G     0.1716         12         64: 100%|██████████| 34/34 [02:01<00:00,  3.57s/it]\n",
            "               classes   top1_acc   top5_acc: 100%|██████████| 6/6 [00:25<00:00,  4.21s/it]"
          ]
        },
        {
          "name": "stdout",
          "output_type": "stream",
          "text": [
            "                   all      0.772          1\n"
          ]
        },
        {
          "name": "stderr",
          "output_type": "stream",
          "text": [
            "\n"
          ]
        },
        {
          "name": "stdout",
          "output_type": "stream",
          "text": [
            "\n",
            "      Epoch    GPU_mem       loss  Instances       Size\n"
          ]
        },
        {
          "name": "stderr",
          "output_type": "stream",
          "text": [
            "     50/100         0G       0.23         12         64: 100%|██████████| 34/34 [01:56<00:00,  3.44s/it]\n",
            "               classes   top1_acc   top5_acc: 100%|██████████| 6/6 [00:25<00:00,  4.26s/it]"
          ]
        },
        {
          "name": "stdout",
          "output_type": "stream",
          "text": [
            "                   all      0.778          1\n"
          ]
        },
        {
          "name": "stderr",
          "output_type": "stream",
          "text": [
            "\n"
          ]
        },
        {
          "name": "stdout",
          "output_type": "stream",
          "text": [
            "\n",
            "      Epoch    GPU_mem       loss  Instances       Size\n"
          ]
        },
        {
          "name": "stderr",
          "output_type": "stream",
          "text": [
            "     51/100         0G     0.2085         12         64: 100%|██████████| 34/34 [01:59<00:00,  3.52s/it]\n",
            "               classes   top1_acc   top5_acc: 100%|██████████| 6/6 [00:25<00:00,  4.25s/it]"
          ]
        },
        {
          "name": "stdout",
          "output_type": "stream",
          "text": [
            "                   all      0.783          1\n"
          ]
        },
        {
          "name": "stderr",
          "output_type": "stream",
          "text": [
            "\n"
          ]
        },
        {
          "name": "stdout",
          "output_type": "stream",
          "text": [
            "\n",
            "      Epoch    GPU_mem       loss  Instances       Size\n"
          ]
        },
        {
          "name": "stderr",
          "output_type": "stream",
          "text": [
            "     52/100         0G     0.1928         12         64: 100%|██████████| 34/34 [01:58<00:00,  3.47s/it]\n",
            "               classes   top1_acc   top5_acc: 100%|██████████| 6/6 [00:25<00:00,  4.18s/it]"
          ]
        },
        {
          "name": "stdout",
          "output_type": "stream",
          "text": [
            "                   all      0.783          1\n"
          ]
        },
        {
          "name": "stderr",
          "output_type": "stream",
          "text": [
            "\n"
          ]
        },
        {
          "name": "stdout",
          "output_type": "stream",
          "text": [
            "\n",
            "      Epoch    GPU_mem       loss  Instances       Size\n"
          ]
        },
        {
          "name": "stderr",
          "output_type": "stream",
          "text": [
            "     53/100         0G     0.1668         12         64: 100%|██████████| 34/34 [02:03<00:00,  3.62s/it]\n",
            "               classes   top1_acc   top5_acc: 100%|██████████| 6/6 [00:25<00:00,  4.33s/it]"
          ]
        },
        {
          "name": "stdout",
          "output_type": "stream",
          "text": [
            "                   all      0.778          1\n"
          ]
        },
        {
          "name": "stderr",
          "output_type": "stream",
          "text": [
            "\n"
          ]
        },
        {
          "name": "stdout",
          "output_type": "stream",
          "text": [
            "\n",
            "      Epoch    GPU_mem       loss  Instances       Size\n"
          ]
        },
        {
          "name": "stderr",
          "output_type": "stream",
          "text": [
            "     54/100         0G       0.15         12         64: 100%|██████████| 34/34 [02:00<00:00,  3.55s/it]\n",
            "               classes   top1_acc   top5_acc: 100%|██████████| 6/6 [00:25<00:00,  4.25s/it]"
          ]
        },
        {
          "name": "stdout",
          "output_type": "stream",
          "text": [
            "                   all       0.75          1\n"
          ]
        },
        {
          "name": "stderr",
          "output_type": "stream",
          "text": [
            "\n"
          ]
        },
        {
          "name": "stdout",
          "output_type": "stream",
          "text": [
            "\n",
            "      Epoch    GPU_mem       loss  Instances       Size\n"
          ]
        },
        {
          "name": "stderr",
          "output_type": "stream",
          "text": [
            "     55/100         0G     0.1151         12         64: 100%|██████████| 34/34 [01:58<00:00,  3.49s/it]\n",
            "               classes   top1_acc   top5_acc: 100%|██████████| 6/6 [00:25<00:00,  4.31s/it]"
          ]
        },
        {
          "name": "stdout",
          "output_type": "stream",
          "text": [
            "                   all      0.794          1\n"
          ]
        },
        {
          "name": "stderr",
          "output_type": "stream",
          "text": [
            "\n"
          ]
        },
        {
          "name": "stdout",
          "output_type": "stream",
          "text": [
            "\n",
            "      Epoch    GPU_mem       loss  Instances       Size\n"
          ]
        },
        {
          "name": "stderr",
          "output_type": "stream",
          "text": [
            "     56/100         0G     0.1431         12         64: 100%|██████████| 34/34 [02:06<00:00,  3.73s/it]\n",
            "               classes   top1_acc   top5_acc: 100%|██████████| 6/6 [00:26<00:00,  4.35s/it]"
          ]
        },
        {
          "name": "stdout",
          "output_type": "stream",
          "text": [
            "                   all      0.817          1\n"
          ]
        },
        {
          "name": "stderr",
          "output_type": "stream",
          "text": [
            "\n"
          ]
        },
        {
          "name": "stdout",
          "output_type": "stream",
          "text": [
            "\n",
            "      Epoch    GPU_mem       loss  Instances       Size\n"
          ]
        },
        {
          "name": "stderr",
          "output_type": "stream",
          "text": [
            "     57/100         0G    0.08714         12         64: 100%|██████████| 34/34 [02:01<00:00,  3.57s/it]\n",
            "               classes   top1_acc   top5_acc: 100%|██████████| 6/6 [00:25<00:00,  4.27s/it]"
          ]
        },
        {
          "name": "stdout",
          "output_type": "stream",
          "text": [
            "                   all      0.783          1\n"
          ]
        },
        {
          "name": "stderr",
          "output_type": "stream",
          "text": [
            "\n"
          ]
        },
        {
          "name": "stdout",
          "output_type": "stream",
          "text": [
            "\n",
            "      Epoch    GPU_mem       loss  Instances       Size\n"
          ]
        },
        {
          "name": "stderr",
          "output_type": "stream",
          "text": [
            "     58/100         0G     0.1419         12         64: 100%|██████████| 34/34 [02:01<00:00,  3.58s/it]\n",
            "               classes   top1_acc   top5_acc: 100%|██████████| 6/6 [00:25<00:00,  4.29s/it]"
          ]
        },
        {
          "name": "stdout",
          "output_type": "stream",
          "text": [
            "                   all      0.778          1\n"
          ]
        },
        {
          "name": "stderr",
          "output_type": "stream",
          "text": [
            "\n"
          ]
        },
        {
          "name": "stdout",
          "output_type": "stream",
          "text": [
            "\n",
            "      Epoch    GPU_mem       loss  Instances       Size\n"
          ]
        },
        {
          "name": "stderr",
          "output_type": "stream",
          "text": [
            "     59/100         0G     0.1686         12         64: 100%|██████████| 34/34 [02:01<00:00,  3.57s/it]\n",
            "               classes   top1_acc   top5_acc: 100%|██████████| 6/6 [00:25<00:00,  4.28s/it]"
          ]
        },
        {
          "name": "stdout",
          "output_type": "stream",
          "text": [
            "                   all      0.767          1\n"
          ]
        },
        {
          "name": "stderr",
          "output_type": "stream",
          "text": [
            "\n"
          ]
        },
        {
          "name": "stdout",
          "output_type": "stream",
          "text": [
            "\n",
            "      Epoch    GPU_mem       loss  Instances       Size\n"
          ]
        },
        {
          "name": "stderr",
          "output_type": "stream",
          "text": [
            "     60/100         0G     0.1358         12         64: 100%|██████████| 34/34 [01:59<00:00,  3.52s/it]\n",
            "               classes   top1_acc   top5_acc: 100%|██████████| 6/6 [00:24<00:00,  4.15s/it]"
          ]
        },
        {
          "name": "stdout",
          "output_type": "stream",
          "text": [
            "                   all      0.772          1\n"
          ]
        },
        {
          "name": "stderr",
          "output_type": "stream",
          "text": [
            "\n"
          ]
        },
        {
          "name": "stdout",
          "output_type": "stream",
          "text": [
            "\n",
            "      Epoch    GPU_mem       loss  Instances       Size\n"
          ]
        },
        {
          "name": "stderr",
          "output_type": "stream",
          "text": [
            "     61/100         0G     0.1508         12         64: 100%|██████████| 34/34 [02:03<00:00,  3.63s/it]\n",
            "               classes   top1_acc   top5_acc: 100%|██████████| 6/6 [00:26<00:00,  4.36s/it]"
          ]
        },
        {
          "name": "stdout",
          "output_type": "stream",
          "text": [
            "                   all      0.783          1\n"
          ]
        },
        {
          "name": "stderr",
          "output_type": "stream",
          "text": [
            "\n"
          ]
        },
        {
          "name": "stdout",
          "output_type": "stream",
          "text": [
            "\n",
            "      Epoch    GPU_mem       loss  Instances       Size\n"
          ]
        },
        {
          "name": "stderr",
          "output_type": "stream",
          "text": [
            "     62/100         0G     0.1275         12         64: 100%|██████████| 34/34 [01:58<00:00,  3.49s/it]\n",
            "               classes   top1_acc   top5_acc: 100%|██████████| 6/6 [00:25<00:00,  4.22s/it]"
          ]
        },
        {
          "name": "stdout",
          "output_type": "stream",
          "text": [
            "                   all      0.828          1\n"
          ]
        },
        {
          "name": "stderr",
          "output_type": "stream",
          "text": [
            "\n"
          ]
        },
        {
          "name": "stdout",
          "output_type": "stream",
          "text": [
            "\n",
            "      Epoch    GPU_mem       loss  Instances       Size\n"
          ]
        },
        {
          "name": "stderr",
          "output_type": "stream",
          "text": [
            "     63/100         0G     0.1033         12         64: 100%|██████████| 34/34 [01:57<00:00,  3.47s/it]\n",
            "               classes   top1_acc   top5_acc: 100%|██████████| 6/6 [00:24<00:00,  4.15s/it]"
          ]
        },
        {
          "name": "stdout",
          "output_type": "stream",
          "text": [
            "                   all      0.822          1\n"
          ]
        },
        {
          "name": "stderr",
          "output_type": "stream",
          "text": [
            "\n"
          ]
        },
        {
          "name": "stdout",
          "output_type": "stream",
          "text": [
            "\n",
            "      Epoch    GPU_mem       loss  Instances       Size\n"
          ]
        },
        {
          "name": "stderr",
          "output_type": "stream",
          "text": [
            "     64/100         0G      0.132         12         64: 100%|██████████| 34/34 [01:59<00:00,  3.51s/it]\n",
            "               classes   top1_acc   top5_acc: 100%|██████████| 6/6 [00:24<00:00,  4.15s/it]"
          ]
        },
        {
          "name": "stdout",
          "output_type": "stream",
          "text": [
            "                   all      0.783          1\n"
          ]
        },
        {
          "name": "stderr",
          "output_type": "stream",
          "text": [
            "\n"
          ]
        },
        {
          "name": "stdout",
          "output_type": "stream",
          "text": [
            "\n",
            "      Epoch    GPU_mem       loss  Instances       Size\n"
          ]
        },
        {
          "name": "stderr",
          "output_type": "stream",
          "text": [
            "     65/100         0G     0.1216         12         64: 100%|██████████| 34/34 [01:52<00:00,  3.31s/it]\n",
            "               classes   top1_acc   top5_acc: 100%|██████████| 6/6 [00:24<00:00,  4.09s/it]"
          ]
        },
        {
          "name": "stdout",
          "output_type": "stream",
          "text": [
            "                   all      0.806          1\n"
          ]
        },
        {
          "name": "stderr",
          "output_type": "stream",
          "text": [
            "\n"
          ]
        },
        {
          "name": "stdout",
          "output_type": "stream",
          "text": [
            "\n",
            "      Epoch    GPU_mem       loss  Instances       Size\n"
          ]
        },
        {
          "name": "stderr",
          "output_type": "stream",
          "text": [
            "     66/100         0G      0.119         12         64: 100%|██████████| 34/34 [01:55<00:00,  3.40s/it]\n",
            "               classes   top1_acc   top5_acc: 100%|██████████| 6/6 [00:24<00:00,  4.14s/it]"
          ]
        },
        {
          "name": "stdout",
          "output_type": "stream",
          "text": [
            "                   all      0.811          1\n"
          ]
        },
        {
          "name": "stderr",
          "output_type": "stream",
          "text": [
            "\n"
          ]
        },
        {
          "name": "stdout",
          "output_type": "stream",
          "text": [
            "\n",
            "      Epoch    GPU_mem       loss  Instances       Size\n"
          ]
        },
        {
          "name": "stderr",
          "output_type": "stream",
          "text": [
            "     67/100         0G    0.09359         12         64: 100%|██████████| 34/34 [01:54<00:00,  3.36s/it]\n",
            "               classes   top1_acc   top5_acc: 100%|██████████| 6/6 [00:25<00:00,  4.17s/it]"
          ]
        },
        {
          "name": "stdout",
          "output_type": "stream",
          "text": [
            "                   all      0.811          1\n"
          ]
        },
        {
          "name": "stderr",
          "output_type": "stream",
          "text": [
            "\n"
          ]
        },
        {
          "name": "stdout",
          "output_type": "stream",
          "text": [
            "\n",
            "      Epoch    GPU_mem       loss  Instances       Size\n"
          ]
        },
        {
          "name": "stderr",
          "output_type": "stream",
          "text": [
            "     68/100         0G     0.0739         12         64: 100%|██████████| 34/34 [01:57<00:00,  3.45s/it]\n",
            "               classes   top1_acc   top5_acc: 100%|██████████| 6/6 [00:24<00:00,  4.08s/it]"
          ]
        },
        {
          "name": "stdout",
          "output_type": "stream",
          "text": [
            "                   all      0.794          1\n"
          ]
        },
        {
          "name": "stderr",
          "output_type": "stream",
          "text": [
            "\n"
          ]
        },
        {
          "name": "stdout",
          "output_type": "stream",
          "text": [
            "\n",
            "      Epoch    GPU_mem       loss  Instances       Size\n"
          ]
        },
        {
          "name": "stderr",
          "output_type": "stream",
          "text": [
            "     69/100         0G     0.1015         12         64: 100%|██████████| 34/34 [01:58<00:00,  3.50s/it]\n",
            "               classes   top1_acc   top5_acc: 100%|██████████| 6/6 [00:25<00:00,  4.18s/it]"
          ]
        },
        {
          "name": "stdout",
          "output_type": "stream",
          "text": [
            "                   all        0.8          1\n"
          ]
        },
        {
          "name": "stderr",
          "output_type": "stream",
          "text": [
            "\n"
          ]
        },
        {
          "name": "stdout",
          "output_type": "stream",
          "text": [
            "\n",
            "      Epoch    GPU_mem       loss  Instances       Size\n"
          ]
        },
        {
          "name": "stderr",
          "output_type": "stream",
          "text": [
            "     70/100         0G    0.06931         12         64: 100%|██████████| 34/34 [02:01<00:00,  3.58s/it]\n",
            "               classes   top1_acc   top5_acc: 100%|██████████| 6/6 [00:25<00:00,  4.21s/it]"
          ]
        },
        {
          "name": "stdout",
          "output_type": "stream",
          "text": [
            "                   all      0.811          1\n"
          ]
        },
        {
          "name": "stderr",
          "output_type": "stream",
          "text": [
            "\n"
          ]
        },
        {
          "name": "stdout",
          "output_type": "stream",
          "text": [
            "\n",
            "      Epoch    GPU_mem       loss  Instances       Size\n"
          ]
        },
        {
          "name": "stderr",
          "output_type": "stream",
          "text": [
            "     71/100         0G    0.09013         12         64: 100%|██████████| 34/34 [01:57<00:00,  3.46s/it]\n",
            "               classes   top1_acc   top5_acc: 100%|██████████| 6/6 [00:25<00:00,  4.25s/it]"
          ]
        },
        {
          "name": "stdout",
          "output_type": "stream",
          "text": [
            "                   all      0.794          1\n"
          ]
        },
        {
          "name": "stderr",
          "output_type": "stream",
          "text": [
            "\n"
          ]
        },
        {
          "name": "stdout",
          "output_type": "stream",
          "text": [
            "\n",
            "      Epoch    GPU_mem       loss  Instances       Size\n"
          ]
        },
        {
          "name": "stderr",
          "output_type": "stream",
          "text": [
            "     72/100         0G    0.09349         12         64: 100%|██████████| 34/34 [01:58<00:00,  3.48s/it]\n",
            "               classes   top1_acc   top5_acc: 100%|██████████| 6/6 [00:25<00:00,  4.25s/it]"
          ]
        },
        {
          "name": "stdout",
          "output_type": "stream",
          "text": [
            "                   all      0.806          1\n"
          ]
        },
        {
          "name": "stderr",
          "output_type": "stream",
          "text": [
            "\n"
          ]
        },
        {
          "name": "stdout",
          "output_type": "stream",
          "text": [
            "\n",
            "      Epoch    GPU_mem       loss  Instances       Size\n"
          ]
        },
        {
          "name": "stderr",
          "output_type": "stream",
          "text": [
            "     73/100         0G    0.08847         12         64: 100%|██████████| 34/34 [02:02<00:00,  3.60s/it]\n",
            "               classes   top1_acc   top5_acc: 100%|██████████| 6/6 [00:27<00:00,  4.55s/it]"
          ]
        },
        {
          "name": "stdout",
          "output_type": "stream",
          "text": [
            "                   all      0.794          1\n"
          ]
        },
        {
          "name": "stderr",
          "output_type": "stream",
          "text": [
            "\n"
          ]
        },
        {
          "name": "stdout",
          "output_type": "stream",
          "text": [
            "\n",
            "      Epoch    GPU_mem       loss  Instances       Size\n"
          ]
        },
        {
          "name": "stderr",
          "output_type": "stream",
          "text": [
            "     74/100         0G    0.09813         12         64: 100%|██████████| 34/34 [02:07<00:00,  3.74s/it]\n",
            "               classes   top1_acc   top5_acc: 100%|██████████| 6/6 [00:26<00:00,  4.34s/it]"
          ]
        },
        {
          "name": "stdout",
          "output_type": "stream",
          "text": [
            "                   all      0.806          1\n"
          ]
        },
        {
          "name": "stderr",
          "output_type": "stream",
          "text": [
            "\n"
          ]
        },
        {
          "name": "stdout",
          "output_type": "stream",
          "text": [
            "\n",
            "      Epoch    GPU_mem       loss  Instances       Size\n"
          ]
        },
        {
          "name": "stderr",
          "output_type": "stream",
          "text": [
            "     75/100         0G    0.08218         12         64: 100%|██████████| 34/34 [09:47<00:00, 17.28s/it] \n",
            "               classes   top1_acc   top5_acc: 100%|██████████| 6/6 [00:25<00:00,  4.30s/it]"
          ]
        },
        {
          "name": "stdout",
          "output_type": "stream",
          "text": [
            "                   all      0.817          1\n"
          ]
        },
        {
          "name": "stderr",
          "output_type": "stream",
          "text": [
            "\n"
          ]
        },
        {
          "name": "stdout",
          "output_type": "stream",
          "text": [
            "\n",
            "      Epoch    GPU_mem       loss  Instances       Size\n"
          ]
        },
        {
          "name": "stderr",
          "output_type": "stream",
          "text": [
            "     76/100         0G     0.1008         12         64: 100%|██████████| 34/34 [01:57<00:00,  3.45s/it]\n",
            "               classes   top1_acc   top5_acc: 100%|██████████| 6/6 [00:25<00:00,  4.18s/it]"
          ]
        },
        {
          "name": "stdout",
          "output_type": "stream",
          "text": [
            "                   all      0.806          1\n"
          ]
        },
        {
          "name": "stderr",
          "output_type": "stream",
          "text": [
            "\n"
          ]
        },
        {
          "name": "stdout",
          "output_type": "stream",
          "text": [
            "\n",
            "      Epoch    GPU_mem       loss  Instances       Size\n"
          ]
        },
        {
          "name": "stderr",
          "output_type": "stream",
          "text": [
            "     77/100         0G     0.1077         12         64: 100%|██████████| 34/34 [01:56<00:00,  3.42s/it]\n",
            "               classes   top1_acc   top5_acc: 100%|██████████| 6/6 [00:26<00:00,  4.37s/it]"
          ]
        },
        {
          "name": "stdout",
          "output_type": "stream",
          "text": [
            "                   all      0.794          1\n"
          ]
        },
        {
          "name": "stderr",
          "output_type": "stream",
          "text": [
            "\n"
          ]
        },
        {
          "name": "stdout",
          "output_type": "stream",
          "text": [
            "\n",
            "      Epoch    GPU_mem       loss  Instances       Size\n"
          ]
        },
        {
          "name": "stderr",
          "output_type": "stream",
          "text": [
            "     78/100         0G    0.09781         12         64: 100%|██████████| 34/34 [01:59<00:00,  3.51s/it]\n",
            "               classes   top1_acc   top5_acc: 100%|██████████| 6/6 [00:25<00:00,  4.25s/it]"
          ]
        },
        {
          "name": "stdout",
          "output_type": "stream",
          "text": [
            "                   all      0.794          1\n"
          ]
        },
        {
          "name": "stderr",
          "output_type": "stream",
          "text": [
            "\n"
          ]
        },
        {
          "name": "stdout",
          "output_type": "stream",
          "text": [
            "\n",
            "      Epoch    GPU_mem       loss  Instances       Size\n"
          ]
        },
        {
          "name": "stderr",
          "output_type": "stream",
          "text": [
            "     79/100         0G    0.07542         12         64: 100%|██████████| 34/34 [01:57<00:00,  3.45s/it]\n",
            "               classes   top1_acc   top5_acc: 100%|██████████| 6/6 [00:24<00:00,  4.06s/it]"
          ]
        },
        {
          "name": "stdout",
          "output_type": "stream",
          "text": [
            "                   all      0.817          1\n"
          ]
        },
        {
          "name": "stderr",
          "output_type": "stream",
          "text": [
            "\n"
          ]
        },
        {
          "name": "stdout",
          "output_type": "stream",
          "text": [
            "\n",
            "      Epoch    GPU_mem       loss  Instances       Size\n"
          ]
        },
        {
          "name": "stderr",
          "output_type": "stream",
          "text": [
            "     80/100         0G    0.08801         12         64: 100%|██████████| 34/34 [01:48<00:00,  3.19s/it]\n",
            "               classes   top1_acc   top5_acc: 100%|██████████| 6/6 [00:23<00:00,  3.92s/it]"
          ]
        },
        {
          "name": "stdout",
          "output_type": "stream",
          "text": [
            "                   all        0.8          1\n"
          ]
        },
        {
          "name": "stderr",
          "output_type": "stream",
          "text": [
            "\n"
          ]
        },
        {
          "name": "stdout",
          "output_type": "stream",
          "text": [
            "\n",
            "      Epoch    GPU_mem       loss  Instances       Size\n"
          ]
        },
        {
          "name": "stderr",
          "output_type": "stream",
          "text": [
            "     81/100         0G    0.09955         12         64: 100%|██████████| 34/34 [01:45<00:00,  3.11s/it]\n",
            "               classes   top1_acc   top5_acc: 100%|██████████| 6/6 [00:23<00:00,  3.89s/it]"
          ]
        },
        {
          "name": "stdout",
          "output_type": "stream",
          "text": [
            "                   all      0.817          1\n"
          ]
        },
        {
          "name": "stderr",
          "output_type": "stream",
          "text": [
            "\n"
          ]
        },
        {
          "name": "stdout",
          "output_type": "stream",
          "text": [
            "\n",
            "      Epoch    GPU_mem       loss  Instances       Size\n"
          ]
        },
        {
          "name": "stderr",
          "output_type": "stream",
          "text": [
            "     82/100         0G    0.06957         12         64: 100%|██████████| 34/34 [01:45<00:00,  3.10s/it]\n",
            "               classes   top1_acc   top5_acc: 100%|██████████| 6/6 [00:23<00:00,  3.93s/it]"
          ]
        },
        {
          "name": "stdout",
          "output_type": "stream",
          "text": [
            "                   all      0.794          1\n"
          ]
        },
        {
          "name": "stderr",
          "output_type": "stream",
          "text": [
            "\n"
          ]
        },
        {
          "name": "stdout",
          "output_type": "stream",
          "text": [
            "\n",
            "      Epoch    GPU_mem       loss  Instances       Size\n"
          ]
        },
        {
          "name": "stderr",
          "output_type": "stream",
          "text": [
            "     83/100         0G    0.06339         12         64: 100%|██████████| 34/34 [01:45<00:00,  3.10s/it]\n",
            "               classes   top1_acc   top5_acc: 100%|██████████| 6/6 [00:23<00:00,  3.93s/it]"
          ]
        },
        {
          "name": "stdout",
          "output_type": "stream",
          "text": [
            "                   all      0.806          1\n"
          ]
        },
        {
          "name": "stderr",
          "output_type": "stream",
          "text": [
            "\n"
          ]
        },
        {
          "name": "stdout",
          "output_type": "stream",
          "text": [
            "\n",
            "      Epoch    GPU_mem       loss  Instances       Size\n"
          ]
        },
        {
          "name": "stderr",
          "output_type": "stream",
          "text": [
            "     84/100         0G    0.06696         12         64: 100%|██████████| 34/34 [01:46<00:00,  3.13s/it]\n",
            "               classes   top1_acc   top5_acc: 100%|██████████| 6/6 [00:23<00:00,  3.96s/it]"
          ]
        },
        {
          "name": "stdout",
          "output_type": "stream",
          "text": [
            "                   all      0.772          1\n"
          ]
        },
        {
          "name": "stderr",
          "output_type": "stream",
          "text": [
            "\n"
          ]
        },
        {
          "name": "stdout",
          "output_type": "stream",
          "text": [
            "\n",
            "      Epoch    GPU_mem       loss  Instances       Size\n"
          ]
        },
        {
          "name": "stderr",
          "output_type": "stream",
          "text": [
            "     85/100         0G    0.06525         12         64: 100%|██████████| 34/34 [01:46<00:00,  3.15s/it]\n",
            "               classes   top1_acc   top5_acc: 100%|██████████| 6/6 [07:50<00:00, 78.40s/it] "
          ]
        },
        {
          "name": "stdout",
          "output_type": "stream",
          "text": [
            "                   all      0.767          1\n"
          ]
        },
        {
          "name": "stderr",
          "output_type": "stream",
          "text": [
            "\n"
          ]
        },
        {
          "name": "stdout",
          "output_type": "stream",
          "text": [
            "\n",
            "      Epoch    GPU_mem       loss  Instances       Size\n"
          ]
        },
        {
          "name": "stderr",
          "output_type": "stream",
          "text": [
            "     86/100         0G    0.06195         12         64: 100%|██████████| 34/34 [12:49<00:00, 22.65s/it] \n",
            "               classes   top1_acc   top5_acc: 100%|██████████| 6/6 [16:55<00:00, 169.18s/it]"
          ]
        },
        {
          "name": "stdout",
          "output_type": "stream",
          "text": [
            "                   all      0.794          1\n"
          ]
        },
        {
          "name": "stderr",
          "output_type": "stream",
          "text": [
            "\n"
          ]
        },
        {
          "name": "stdout",
          "output_type": "stream",
          "text": [
            "\n",
            "      Epoch    GPU_mem       loss  Instances       Size\n"
          ]
        },
        {
          "name": "stderr",
          "output_type": "stream",
          "text": [
            "     87/100         0G    0.06086         12         64: 100%|██████████| 34/34 [34:17<00:00, 60.50s/it]   \n",
            "               classes   top1_acc   top5_acc: 100%|██████████| 6/6 [00:22<00:00,  3.74s/it]"
          ]
        },
        {
          "name": "stdout",
          "output_type": "stream",
          "text": [
            "                   all        0.8          1\n"
          ]
        },
        {
          "name": "stderr",
          "output_type": "stream",
          "text": [
            "\n"
          ]
        },
        {
          "name": "stdout",
          "output_type": "stream",
          "text": [
            "\n",
            "      Epoch    GPU_mem       loss  Instances       Size\n"
          ]
        },
        {
          "name": "stderr",
          "output_type": "stream",
          "text": [
            "     88/100         0G    0.08157         12         64: 100%|██████████| 34/34 [34:14<00:00, 60.44s/it]   \n",
            "               classes   top1_acc   top5_acc: 100%|██████████| 6/6 [00:22<00:00,  3.77s/it]"
          ]
        },
        {
          "name": "stdout",
          "output_type": "stream",
          "text": [
            "                   all      0.767          1\n"
          ]
        },
        {
          "name": "stderr",
          "output_type": "stream",
          "text": [
            "\n"
          ]
        },
        {
          "name": "stdout",
          "output_type": "stream",
          "text": [
            "\n",
            "      Epoch    GPU_mem       loss  Instances       Size\n"
          ]
        },
        {
          "name": "stderr",
          "output_type": "stream",
          "text": [
            "     89/100         0G     0.0828         12         64: 100%|██████████| 34/34 [17:04<00:00, 30.14s/it] \n",
            "               classes   top1_acc   top5_acc: 100%|██████████| 6/6 [00:22<00:00,  3.76s/it]"
          ]
        },
        {
          "name": "stdout",
          "output_type": "stream",
          "text": [
            "                   all       0.75          1\n"
          ]
        },
        {
          "name": "stderr",
          "output_type": "stream",
          "text": [
            "\n"
          ]
        },
        {
          "name": "stdout",
          "output_type": "stream",
          "text": [
            "\n",
            "      Epoch    GPU_mem       loss  Instances       Size\n"
          ]
        },
        {
          "name": "stderr",
          "output_type": "stream",
          "text": [
            "     90/100         0G    0.05287         12         64: 100%|██████████| 34/34 [04:10<00:00,  7.37s/it]\n",
            "               classes   top1_acc   top5_acc: 100%|██████████| 6/6 [00:22<00:00,  3.78s/it]"
          ]
        },
        {
          "name": "stdout",
          "output_type": "stream",
          "text": [
            "                   all       0.75          1\n"
          ]
        },
        {
          "name": "stderr",
          "output_type": "stream",
          "text": [
            "\n"
          ]
        },
        {
          "name": "stdout",
          "output_type": "stream",
          "text": [
            "\n",
            "      Epoch    GPU_mem       loss  Instances       Size\n"
          ]
        },
        {
          "name": "stderr",
          "output_type": "stream",
          "text": [
            "     91/100         0G    0.07972         12         64: 100%|██████████| 34/34 [01:53<00:00,  3.34s/it]\n",
            "               classes   top1_acc   top5_acc: 100%|██████████| 6/6 [00:22<00:00,  3.75s/it]"
          ]
        },
        {
          "name": "stdout",
          "output_type": "stream",
          "text": [
            "                   all      0.772          1\n"
          ]
        },
        {
          "name": "stderr",
          "output_type": "stream",
          "text": [
            "\n"
          ]
        },
        {
          "name": "stdout",
          "output_type": "stream",
          "text": [
            "\n",
            "      Epoch    GPU_mem       loss  Instances       Size\n"
          ]
        },
        {
          "name": "stderr",
          "output_type": "stream",
          "text": [
            "     92/100         0G    0.09138         12         64: 100%|██████████| 34/34 [18:59<00:00, 33.53s/it]  \n",
            "               classes   top1_acc   top5_acc: 100%|██████████| 6/6 [00:22<00:00,  3.80s/it]"
          ]
        },
        {
          "name": "stdout",
          "output_type": "stream",
          "text": [
            "                   all      0.778          1\n"
          ]
        },
        {
          "name": "stderr",
          "output_type": "stream",
          "text": [
            "\n"
          ]
        },
        {
          "name": "stdout",
          "output_type": "stream",
          "text": [
            "\n",
            "      Epoch    GPU_mem       loss  Instances       Size\n"
          ]
        },
        {
          "name": "stderr",
          "output_type": "stream",
          "text": [
            "     93/100         0G    0.07609         12         64: 100%|██████████| 34/34 [01:41<00:00,  2.98s/it]\n",
            "               classes   top1_acc   top5_acc: 100%|██████████| 6/6 [00:22<00:00,  3.78s/it]"
          ]
        },
        {
          "name": "stdout",
          "output_type": "stream",
          "text": [
            "                   all      0.783          1\n"
          ]
        },
        {
          "name": "stderr",
          "output_type": "stream",
          "text": [
            "\n"
          ]
        },
        {
          "name": "stdout",
          "output_type": "stream",
          "text": [
            "\n",
            "      Epoch    GPU_mem       loss  Instances       Size\n"
          ]
        },
        {
          "name": "stderr",
          "output_type": "stream",
          "text": [
            "     94/100         0G    0.06552         12         64: 100%|██████████| 34/34 [01:41<00:00,  3.00s/it]\n",
            "               classes   top1_acc   top5_acc: 100%|██████████| 6/6 [00:22<00:00,  3.81s/it]"
          ]
        },
        {
          "name": "stdout",
          "output_type": "stream",
          "text": [
            "                   all      0.778          1\n"
          ]
        },
        {
          "name": "stderr",
          "output_type": "stream",
          "text": [
            "\n"
          ]
        },
        {
          "name": "stdout",
          "output_type": "stream",
          "text": [
            "\n",
            "      Epoch    GPU_mem       loss  Instances       Size\n"
          ]
        },
        {
          "name": "stderr",
          "output_type": "stream",
          "text": [
            "     95/100         0G    0.06293         12         64: 100%|██████████| 34/34 [01:41<00:00,  2.99s/it]\n",
            "               classes   top1_acc   top5_acc: 100%|██████████| 6/6 [00:22<00:00,  3.81s/it]"
          ]
        },
        {
          "name": "stdout",
          "output_type": "stream",
          "text": [
            "                   all      0.794          1\n"
          ]
        },
        {
          "name": "stderr",
          "output_type": "stream",
          "text": [
            "\n"
          ]
        },
        {
          "name": "stdout",
          "output_type": "stream",
          "text": [
            "\n",
            "      Epoch    GPU_mem       loss  Instances       Size\n"
          ]
        },
        {
          "name": "stderr",
          "output_type": "stream",
          "text": [
            "     96/100         0G    0.05933         12         64: 100%|██████████| 34/34 [01:41<00:00,  3.00s/it]\n",
            "               classes   top1_acc   top5_acc: 100%|██████████| 6/6 [00:22<00:00,  3.82s/it]"
          ]
        },
        {
          "name": "stdout",
          "output_type": "stream",
          "text": [
            "                   all      0.783          1\n"
          ]
        },
        {
          "name": "stderr",
          "output_type": "stream",
          "text": [
            "\n"
          ]
        },
        {
          "name": "stdout",
          "output_type": "stream",
          "text": [
            "\n",
            "      Epoch    GPU_mem       loss  Instances       Size\n"
          ]
        },
        {
          "name": "stderr",
          "output_type": "stream",
          "text": [
            "     97/100         0G    0.05548         12         64: 100%|██████████| 34/34 [01:41<00:00,  2.99s/it]\n",
            "               classes   top1_acc   top5_acc: 100%|██████████| 6/6 [00:22<00:00,  3.80s/it]"
          ]
        },
        {
          "name": "stdout",
          "output_type": "stream",
          "text": [
            "                   all      0.783          1\n"
          ]
        },
        {
          "name": "stderr",
          "output_type": "stream",
          "text": [
            "\n"
          ]
        },
        {
          "name": "stdout",
          "output_type": "stream",
          "text": [
            "\n",
            "      Epoch    GPU_mem       loss  Instances       Size\n"
          ]
        },
        {
          "name": "stderr",
          "output_type": "stream",
          "text": [
            "     98/100         0G    0.06212         12         64: 100%|██████████| 34/34 [01:42<00:00,  3.00s/it]\n",
            "               classes   top1_acc   top5_acc: 100%|██████████| 6/6 [00:23<00:00,  3.87s/it]"
          ]
        },
        {
          "name": "stdout",
          "output_type": "stream",
          "text": [
            "                   all      0.789          1\n"
          ]
        },
        {
          "name": "stderr",
          "output_type": "stream",
          "text": [
            "\n"
          ]
        },
        {
          "name": "stdout",
          "output_type": "stream",
          "text": [
            "\n",
            "      Epoch    GPU_mem       loss  Instances       Size\n"
          ]
        },
        {
          "name": "stderr",
          "output_type": "stream",
          "text": [
            "     99/100         0G     0.0758         12         64: 100%|██████████| 34/34 [17:47<00:00, 31.41s/it]  \n",
            "               classes   top1_acc   top5_acc: 100%|██████████| 6/6 [00:22<00:00,  3.75s/it]"
          ]
        },
        {
          "name": "stdout",
          "output_type": "stream",
          "text": [
            "                   all      0.772          1\n"
          ]
        },
        {
          "name": "stderr",
          "output_type": "stream",
          "text": [
            "\n"
          ]
        },
        {
          "name": "stdout",
          "output_type": "stream",
          "text": [
            "\n",
            "      Epoch    GPU_mem       loss  Instances       Size\n"
          ]
        },
        {
          "name": "stderr",
          "output_type": "stream",
          "text": [
            "    100/100         0G    0.08411         12         64: 100%|██████████| 34/34 [08:47<00:00, 15.52s/it] \n",
            "               classes   top1_acc   top5_acc: 100%|██████████| 6/6 [00:22<00:00,  3.77s/it]"
          ]
        },
        {
          "name": "stdout",
          "output_type": "stream",
          "text": [
            "                   all      0.794          1\n"
          ]
        },
        {
          "name": "stderr",
          "output_type": "stream",
          "text": [
            "\n"
          ]
        },
        {
          "name": "stdout",
          "output_type": "stream",
          "text": [
            "\n",
            "100 epochs completed in 6.721 hours.\n",
            "Optimizer stripped from /Users/i/Downloads/cv_project/classification_code/YOLO/classification10/train/weights/last.pt, 112.5MB\n",
            "Optimizer stripped from /Users/i/Downloads/cv_project/classification_code/YOLO/classification10/train/weights/best.pt, 112.5MB\n",
            "\n",
            "Validating /Users/i/Downloads/cv_project/classification_code/YOLO/classification10/train/weights/best.pt...\n",
            "Ultralytics YOLOv8.2.48 🚀 Python-3.12.4 torch-2.3.1 CPU (Apple M1)\n",
            "YOLOv8x-cls summary (fused): 133 layers, 56127043 parameters, 0 gradients, 153.8 GFLOPs\n",
            "\u001b[34m\u001b[1mtrain:\u001b[0m /Users/i/Downloads/cv_project/chest_xray_data_mini3/chest_xray/train... found 540 images in 3 classes ✅ \n",
            "\u001b[34m\u001b[1mval:\u001b[0m /Users/i/Downloads/cv_project/chest_xray_data_mini3/chest_xray/val... found 180 images in 3 classes ✅ \n",
            "\u001b[34m\u001b[1mtest:\u001b[0m /Users/i/Downloads/cv_project/chest_xray_data_mini3/chest_xray/test... found 180 images in 3 classes ✅ \n"
          ]
        },
        {
          "name": "stderr",
          "output_type": "stream",
          "text": [
            "               classes   top1_acc   top5_acc: 100%|██████████| 6/6 [00:22<00:00,  3.75s/it]\n"
          ]
        },
        {
          "name": "stdout",
          "output_type": "stream",
          "text": [
            "                   all      0.856          1\n",
            "Speed: 0.0ms preprocess, 116.8ms inference, 0.0ms loss, 0.0ms postprocess per image\n",
            "Results saved to \u001b[1m/Users/i/Downloads/cv_project/classification_code/YOLO/classification10/train\u001b[0m\n",
            "Results saved to \u001b[1m/Users/i/Downloads/cv_project/classification_code/YOLO/classification10/train\u001b[0m\n"
          ]
        }
      ],
      "source": [
        "# train\n",
        "results = model.train(data=\"/Users/i/Downloads/cv_project/chest_xray_data_mini3/chest_xray\", epochs=100, imgsz=64, project=save_path2)"
      ]
    },
    {
      "cell_type": "code",
      "execution_count": 9,
      "metadata": {
        "colab": {
          "base_uri": "https://localhost:8080/",
          "height": 36
        },
        "id": "CaYmGkeILI-A",
        "outputId": "19271773-aca8-4d69-ea6f-7c579b50d25e"
      },
      "outputs": [
        {
          "data": {
            "text/plain": [
              "'/Users/i/Downloads/cv_project/classification_code/YOLO/classification5'"
            ]
          },
          "execution_count": 9,
          "metadata": {},
          "output_type": "execute_result"
        }
      ],
      "source": [
        "pwd"
      ]
    },
    {
      "cell_type": "markdown",
      "metadata": {},
      "source": [
        "# valid"
      ]
    },
    {
      "cell_type": "code",
      "execution_count": 6,
      "metadata": {},
      "outputs": [
        {
          "name": "stdout",
          "output_type": "stream",
          "text": [
            "Ultralytics YOLOv8.2.48 🚀 Python-3.12.4 torch-2.3.1 CPU (Apple M1)\n",
            "YOLOv8x-cls summary (fused): 133 layers, 56127043 parameters, 0 gradients, 153.8 GFLOPs\n",
            "\u001b[34m\u001b[1mtrain:\u001b[0m /Users/i/Downloads/cv_project/chest_xray_data_mini3/chest_xray/train... found 540 images in 3 classes ✅ \n",
            "\u001b[34m\u001b[1mval:\u001b[0m /Users/i/Downloads/cv_project/chest_xray_data_mini3/chest_xray/val... found 180 images in 3 classes ✅ \n",
            "\u001b[34m\u001b[1mtest:\u001b[0m /Users/i/Downloads/cv_project/chest_xray_data_mini3/chest_xray/test... found 180 images in 3 classes ✅ \n"
          ]
        },
        {
          "name": "stderr",
          "output_type": "stream",
          "text": [
            "\u001b[34m\u001b[1mval: \u001b[0mScanning /Users/i/Downloads/cv_project/chest_xray_data_mini3/chest_xray/val... 180 images, 0 corrupt: 100%|██████████| 180/180 [00:00<?, ?it/s]\n",
            "               classes   top1_acc   top5_acc: 100%|██████████| 12/12 [00:28<00:00,  2.36s/it]\n"
          ]
        },
        {
          "name": "stdout",
          "output_type": "stream",
          "text": [
            "                   all      0.856          1\n",
            "Speed: 0.0ms preprocess, 147.8ms inference, 0.0ms loss, 0.0ms postprocess per image\n",
            "Results saved to \u001b[1m/Users/i/Downloads/cv_project/classification_code/YOLO/classification10/val\u001b[0m\n"
          ]
        },
        {
          "data": {
            "text/plain": [
              "1.0"
            ]
          },
          "execution_count": 6,
          "metadata": {},
          "output_type": "execute_result"
        }
      ],
      "source": [
        "model = YOLO(\"./train/weights/best.pt\")  # load a custom model\n",
        "metrics = model.val(data=\"/Users/i/Downloads/cv_project/chest_xray_data_mini3/chest_xray\",\n",
        "                    project=save_path2)  \n",
        "metrics.top5  # top5 accuracy"
      ]
    },
    {
      "cell_type": "code",
      "execution_count": 7,
      "metadata": {},
      "outputs": [
        {
          "data": {
            "text/plain": [
              "0.855555534362793"
            ]
          },
          "execution_count": 7,
          "metadata": {},
          "output_type": "execute_result"
        }
      ],
      "source": [
        "metrics.top1  # top1 accuracy"
      ]
    },
    {
      "cell_type": "markdown",
      "metadata": {},
      "source": [
        "# predict"
      ]
    },
    {
      "cell_type": "code",
      "execution_count": 8,
      "metadata": {},
      "outputs": [
        {
          "data": {
            "text/plain": [
              "'/Users/i/Downloads/cv_project/classification_code/YOLO/classification10'"
            ]
          },
          "execution_count": 8,
          "metadata": {},
          "output_type": "execute_result"
        }
      ],
      "source": [
        "pwd"
      ]
    },
    {
      "cell_type": "code",
      "execution_count": 9,
      "metadata": {
        "colab": {
          "base_uri": "https://localhost:8080/"
        },
        "id": "oLzl5fsJMlly",
        "outputId": "711116d0-ccc2-4131-e879-a72155938b41"
      },
      "outputs": [
        {
          "name": "stdout",
          "output_type": "stream",
          "text": [
            "Ultralytics YOLOv8.2.48 🚀 Python-3.12.4 torch-2.3.1 CPU (Apple M1)\n",
            "YOLOv8x-cls summary (fused): 133 layers, 56127043 parameters, 0 gradients, 153.8 GFLOPs\n",
            "\n",
            "image 1/1 /Users/i/Downloads/cv_project/chest_xray_data_mini3/chest_xray/test/PNEUMONIA_BACTERIA/person78_bacteria_378.jpeg: 64x64 PNEUMONIA_VIRUS 0.95, PNEUMONIA_BACTERIA 0.05, NORMAL 0.00, 20.1ms\n",
            "Speed: 6.1ms preprocess, 20.1ms inference, 0.0ms postprocess per image at shape (1, 3, 64, 64)\n",
            "Results saved to \u001b[1m/Users/i/Downloads/cv_project/classification_code/YOLO/classification10/predict\u001b[0m\n",
            "💡 Learn more at https://docs.ultralytics.com/modes/predict\n"
          ]
        }
      ],
      "source": [
        "!yolo task=classify mode=predict model=./train/weights/best.pt source=/Users/i/Downloads/cv_project/chest_xray_data_mini3/chest_xray/test/PNEUMONIA_BACTERIA/person78_bacteria_378.jpeg project=/Users/i/Downloads/cv_project/classification_code/YOLO/classification10"
      ]
    },
    {
      "cell_type": "code",
      "execution_count": 1,
      "metadata": {
        "id": "hu10bizAPlGj"
      },
      "outputs": [
        {
          "data": {
            "text/plain": [
              "(-0.5, 1199.5, 1199.5, -0.5)"
            ]
          },
          "execution_count": 1,
          "metadata": {},
          "output_type": "execute_result"
        },
        {
          "data": {
            "image/png": "[encoded data removed]",
            "text/plain": [
              "<Figure size 640x480 with 1 Axes>"
            ]
          },
          "metadata": {},
          "output_type": "display_data"
        }
      ],
      "source": [
        "import matplotlib.pyplot as plt\n",
        "import cv2\n",
        "\n",
        "img=cv2.imread('/Users/i/Downloads/cv_project/classification_code/YOLO/classification10/train/results.png')\n",
        "img=cv2.cvtColor(img,cv2.COLOR_BGR2RGB)\n",
        "plt.imshow(img)\n",
        "plt.axis('off')"
      ]
    },
    {
      "cell_type": "code",
      "execution_count": null,
      "metadata": {},
      "outputs": [],
      "source": []
    }
  ],
  "metadata": {
    "accelerator": "GPU",
    "colab": {
      "gpuType": "T4",
      "provenance": []
    },
    "kernelspec": {
      "display_name": "Python 3",
      "name": "python3"
    },
    "language_info": {
      "codemirror_mode": {
        "name": "ipython",
        "version": 3
      },
      "file_extension": ".py",
      "mimetype": "text/x-python",
      "name": "python",
      "nbconvert_exporter": "python",
      "pygments_lexer": "ipython3",
      "version": "3.1.-1"
    }
  },
  "nbformat": 4,
  "nbformat_minor": 0
}
